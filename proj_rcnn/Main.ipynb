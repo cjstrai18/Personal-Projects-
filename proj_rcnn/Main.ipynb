{
 "cells": [
  {
   "cell_type": "code",
   "execution_count": 35,
   "id": "db4176c2",
   "metadata": {},
   "outputs": [],
   "source": [
    "import numpy as np\n",
    "from skimage import io\n",
    "from skimage.transform import resize\n",
    "import matplotlib.pyplot as plt\n",
    "import random\n",
    "import matplotlib.patches as patches\n",
    "import os\n",
    "\n",
    "import torch\n",
    "import torchvision\n",
    "from torchvision import ops\n",
    "import torch.nn as nn\n",
    "import torch.nn.functional as F\n",
    "from torch.utils.data import DataLoader, Dataset\n",
    "from torch.nn.utils.rnn import pad_sequence"
   ]
  },
  {
   "cell_type": "code",
   "execution_count": 53,
   "id": "299bf51a",
   "metadata": {},
   "outputs": [],
   "source": [
    "def trainer(model, learning_rate, train_dataloader, n_epochs):\n",
    "    \n",
    "    optimizer = optim.Adam(model.parameters(), lr=learning_rate)\n",
    "#     for i in range(train_batches): \n",
    "    img_batch1, gt_bboxes_batch1, gt_classes_batch1 = train_dataloader\n",
    "    img_batch2, gt_bboxes_batch2, gt_classes_batch2 = train_dataloader\n",
    "    img_batch = torch.stack([img_batch1, img_batch2], dim=0)\n",
    "    gt_bboxes_batch = torch.stack([gt_bboxes_batch1, gt_bboxes_batch2], dim=0)\n",
    "    gt_classes_batch = torch.stack([gt_classes_batch1, gt_classes_batch2], dim=0) \n",
    "\n",
    "    model.train()\n",
    "    loss_list = []\n",
    "    pred_classes = []\n",
    "\n",
    "    for i in tqdm(range(n_epochs)):\n",
    "        total_loss = 0\n",
    "        # forward pass\n",
    "        loss = model(img_batch, gt_bboxes_batch, gt_classes_batch)\n",
    "\n",
    "        # backpropagation\n",
    "        optimizer.zero_grad()\n",
    "        loss.backward()\n",
    "        optimizer.step()\n",
    "\n",
    "        total_loss += loss.item()\n",
    "        print('tot:', total_loss)\n",
    "\n",
    "        loss_list.append(total_loss)\n",
    "    proposals_final, conf_scores_final, classes_final = model.inference(img_batch)\n",
    "    \n",
    "#     j = train_batches + 1 \n",
    "#     pred_classes = []\n",
    "#     gt_classes = []\n",
    "#     for i in range(j, 228): \n",
    "#         img_batch1, gt_bboxes_batch1, gt_classes_batch1 = train_dataloader[i]\n",
    "#         img_batch2, gt_bboxes_batch2, gt_classes_batch2 = train_dataloader[i]\n",
    "#         img_batch = torch.stack([img_batch1, img_batch2], dim=0)\n",
    "#         gt_bboxes_batch = torch.stack([gt_bboxes_batch1, gt_bboxes_batch2], dim=0)\n",
    "#         gt_classes_batch = torch.stack([gt_classes_batch1, gt_classes_batch2], dim=0)\n",
    "        \n",
    "#         for k in gt_classes_batch1[0]: \n",
    "#             if k != -1:\n",
    "#                 gt_classes.append(idx_2_n[k])\n",
    "\n",
    "#         proposals_final, conf_scores_final, classes_final = TSD.inference(mini.img_batch)\n",
    "        \n",
    "#         for k in classes_final[0]: \n",
    "#             if k != -1:\n",
    "#                 pred_classes.append(idx_2_n[k])\n",
    "\n",
    "    return loss_list, classes_final, proposals_final, conf_scores_final\n",
    "\n",
    "\n",
    "def project_bboxes( bboxes, width_scale_factor, height_scale_factor, mode='a2p'):\n",
    "        assert mode in ['a2p', 'p2a']\n",
    "\n",
    "        batch_size = bboxes.size(dim=0)\n",
    "        proj_bboxes = bboxes.clone().reshape(batch_size, -1, 4).to(torch.float)\n",
    "        invalid_bbox_mask = (proj_bboxes == -1) # indicating padded bboxes\n",
    "\n",
    "        if mode == 'a2p':\n",
    "            # activation map to pixel image\n",
    "            proj_bboxes[:, :, [0, 2]] *= width_scale_factor\n",
    "            proj_bboxes[:, :, [1, 3]] *= height_scale_factor\n",
    "        else:\n",
    "            # pixel image to activation map\n",
    "            proj_bboxes[:, :, [0, 2]] /= width_scale_factor\n",
    "            proj_bboxes[:, :, [1, 3]] /= height_scale_factor\n",
    "\n",
    "        proj_bboxes.masked_fill_(invalid_bbox_mask, -1) # fill padded bboxes back with -1\n",
    "        proj_bboxes.resize_as_(bboxes)\n",
    "\n",
    "        return proj_bboxes\n",
    "    \n",
    "def display_img(img_data, fig, axes):\n",
    "    for i, img in enumerate(img_data):\n",
    "        if type(img) == torch.Tensor:\n",
    "            img = img.permute(1, 2, 0).numpy()\n",
    "        axes[i].imshow(img)\n",
    "    \n",
    "    return fig, axes\n",
    "\n",
    "def display_bbox(bboxes, fig, ax, classes=None, in_format='xyxy', color='y', line_width=3):\n",
    "    if type(bboxes) == np.ndarray:\n",
    "        bboxes = torch.from_numpy(bboxes)\n",
    "    if classes:\n",
    "        assert len(bboxes) == len(classes)\n",
    "    # convert boxes to xywh format\n",
    "    bboxes = ops.box_convert(bboxes, in_fmt=in_format, out_fmt='xywh')\n",
    "    c = 0\n",
    "    for box in bboxes:\n",
    "        x, y, w, h = box.numpy()\n",
    "        # display bounding box\n",
    "        rect = patches.Rectangle((x, y), w, h, linewidth=line_width, edgecolor=color, facecolor='none')\n",
    "        ax.add_patch(rect)\n",
    "        # display category\n",
    "        if classes:\n",
    "            if classes[c] == 'pad':\n",
    "                continue\n",
    "            ax.text(x + 5, y + 20, classes[c], bbox=dict(facecolor='yellow', alpha=0.5))\n",
    "        c += 1"
   ]
  },
  {
   "cell_type": "code",
   "execution_count": 49,
   "id": "fe71a74e",
   "metadata": {},
   "outputs": [],
   "source": [
    "# def scale_boxes( truth_boxes, og_width, og_height, target_size):\n",
    "#     target_width, target_height = target_size\n",
    "\n",
    "#     wsf = target_width / og_width\n",
    "#     hsf = target_height / og_height\n",
    "\n",
    "#     scaled_boxes = []\n",
    "#     for box in truth_boxes:\n",
    "#         box = torch.tensor(box)\n",
    "#         x_min, y_min, x_max, y_max = box\n",
    "#         scaled_x_min = int(x_min * wsf)\n",
    "#         scaled_y_min = int(y_min * hsf)\n",
    "#         scaled_x_max = int(x_max * wsf)\n",
    "#         scaled_y_max = int(y_max * hsf)\n",
    "#         scaled_boxes.append((scaled_x_min, scaled_y_min, scaled_x_max, scaled_y_max))\n",
    "#     return scaled_boxes\n",
    "\n",
    "def scale_boxes(truth_boxes, og_width, og_height, target_size):\n",
    "    target_height, target_width = target_size\n",
    "\n",
    "    wsf = target_width / og_width\n",
    "    hsf = target_height / og_height\n",
    "\n",
    "    scaled_boxes = []\n",
    "    for box in truth_boxes:\n",
    "        # Convert the inner list (box) into a torch tensor\n",
    "        box_tensor = torch.tensor(box, dtype=torch.float32)  # Convert to float32 if needed\n",
    "\n",
    "        # Scale the box coordinates\n",
    "        scaled_x_min = int(box_tensor[0] * wsf)\n",
    "        scaled_y_min = int(box_tensor[1] * hsf)\n",
    "        scaled_x_max = int(box_tensor[2] * wsf)\n",
    "        scaled_y_max = int(box_tensor[3] * hsf)\n",
    "\n",
    "        # Append the scaled box coordinates as a tuple\n",
    "        scaled_boxes.append((scaled_x_min, scaled_y_min, scaled_x_max, scaled_y_max))\n",
    "\n",
    "    # Stack the scaled_boxes into a tensor along the first dimension\n",
    "    scaled_boxes_tensor = torch.stack([torch.tensor(box) for box in scaled_boxes])\n",
    "\n",
    "    return scaled_boxes_tensor\n",
    "    \n",
    "def get_data(path, target_size):\n",
    "    img = io.imread(path)\n",
    "    img = resize(img, target_size)\n",
    "    img_np = np.array(img)\n",
    "    img_tensor = torch.from_numpy(img_np).permute(2, 0, 1)\n",
    "    return img_tensor\n",
    "    "
   ]
  },
  {
   "cell_type": "code",
   "execution_count": 30,
   "id": "00510605",
   "metadata": {},
   "outputs": [
    {
     "name": "stdout",
     "output_type": "stream",
     "text": [
      "torch.Size([3, 640, 480])\n",
      "tensor([[158, 131, 187, 172],\n",
      "        [189, 139, 219, 171],\n",
      "        [226, 139, 255, 171],\n",
      "        [261, 129, 282, 171],\n",
      "        [290, 140, 319, 181],\n",
      "        [324, 139, 351, 170],\n",
      "        [357, 128, 377, 170],\n",
      "        [385, 129, 411, 170],\n",
      "        [443, 128, 473, 169],\n",
      "        [472, 138, 501, 169],\n",
      "        [ 64, 201, 101, 243],\n",
      "        [107, 212, 135, 243],\n",
      "        [139, 202, 149, 242],\n",
      "        [153, 212, 180, 242],\n",
      "        [185, 202, 212, 242],\n",
      "        [219, 211, 246, 241],\n",
      "        [252, 210, 278, 241],\n",
      "        [284, 200, 304, 240],\n",
      "        [311, 210, 338, 240],\n",
      "        [346, 211, 363, 239],\n",
      "        [394, 209, 421, 239],\n",
      "        [427, 210, 453, 239],\n",
      "        [459, 199, 487, 238],\n",
      "        [ 72, 273, 108, 312],\n",
      "        [113, 284, 130, 312],\n",
      "        [135, 283, 162, 312],\n",
      "        [168, 283, 195, 311],\n",
      "        [201, 283, 227, 311],\n",
      "        [234, 282, 259, 311],\n",
      "        [265, 272, 285, 310],\n",
      "        [291, 281, 317, 310],\n",
      "        [323, 280, 350, 309],\n",
      "        [355, 271, 382, 309],\n",
      "        [ -1,  -1,  -1,  -1],\n",
      "        [ -1,  -1,  -1,  -1],\n",
      "        [ -1,  -1,  -1,  -1],\n",
      "        [ -1,  -1,  -1,  -1],\n",
      "        [ -1,  -1,  -1,  -1],\n",
      "        [ -1,  -1,  -1,  -1],\n",
      "        [ -1,  -1,  -1,  -1],\n",
      "        [ -1,  -1,  -1,  -1],\n",
      "        [ -1,  -1,  -1,  -1],\n",
      "        [ -1,  -1,  -1,  -1],\n",
      "        [ -1,  -1,  -1,  -1],\n",
      "        [ -1,  -1,  -1,  -1],\n",
      "        [ -1,  -1,  -1,  -1],\n",
      "        [ -1,  -1,  -1,  -1],\n",
      "        [ -1,  -1,  -1,  -1],\n",
      "        [ -1,  -1,  -1,  -1],\n",
      "        [ -1,  -1,  -1,  -1],\n",
      "        [ -1,  -1,  -1,  -1],\n",
      "        [ -1,  -1,  -1,  -1],\n",
      "        [ -1,  -1,  -1,  -1],\n",
      "        [ -1,  -1,  -1,  -1],\n",
      "        [ -1,  -1,  -1,  -1],\n",
      "        [ -1,  -1,  -1,  -1],\n",
      "        [ -1,  -1,  -1,  -1],\n",
      "        [ -1,  -1,  -1,  -1],\n",
      "        [ -1,  -1,  -1,  -1],\n",
      "        [ -1,  -1,  -1,  -1],\n",
      "        [ -1,  -1,  -1,  -1],\n",
      "        [ -1,  -1,  -1,  -1],\n",
      "        [ -1,  -1,  -1,  -1],\n",
      "        [ -1,  -1,  -1,  -1],\n",
      "        [ -1,  -1,  -1,  -1],\n",
      "        [ -1,  -1,  -1,  -1],\n",
      "        [ -1,  -1,  -1,  -1],\n",
      "        [ -1,  -1,  -1,  -1],\n",
      "        [ -1,  -1,  -1,  -1],\n",
      "        [ -1,  -1,  -1,  -1],\n",
      "        [ -1,  -1,  -1,  -1],\n",
      "        [ -1,  -1,  -1,  -1],\n",
      "        [ -1,  -1,  -1,  -1],\n",
      "        [ -1,  -1,  -1,  -1],\n",
      "        [ -1,  -1,  -1,  -1],\n",
      "        [ -1,  -1,  -1,  -1],\n",
      "        [ -1,  -1,  -1,  -1],\n",
      "        [ -1,  -1,  -1,  -1],\n",
      "        [ -1,  -1,  -1,  -1],\n",
      "        [ -1,  -1,  -1,  -1],\n",
      "        [ -1,  -1,  -1,  -1],\n",
      "        [ -1,  -1,  -1,  -1],\n",
      "        [ -1,  -1,  -1,  -1],\n",
      "        [ -1,  -1,  -1,  -1],\n",
      "        [ -1,  -1,  -1,  -1],\n",
      "        [ -1,  -1,  -1,  -1],\n",
      "        [ -1,  -1,  -1,  -1],\n",
      "        [ -1,  -1,  -1,  -1],\n",
      "        [ -1,  -1,  -1,  -1],\n",
      "        [ -1,  -1,  -1,  -1],\n",
      "        [ -1,  -1,  -1,  -1],\n",
      "        [ -1,  -1,  -1,  -1],\n",
      "        [ -1,  -1,  -1,  -1],\n",
      "        [ -1,  -1,  -1,  -1],\n",
      "        [ -1,  -1,  -1,  -1],\n",
      "        [ -1,  -1,  -1,  -1],\n",
      "        [ -1,  -1,  -1,  -1],\n",
      "        [ -1,  -1,  -1,  -1],\n",
      "        [ -1,  -1,  -1,  -1],\n",
      "        [ -1,  -1,  -1,  -1],\n",
      "        [ -1,  -1,  -1,  -1],\n",
      "        [ -1,  -1,  -1,  -1],\n",
      "        [ -1,  -1,  -1,  -1],\n",
      "        [ -1,  -1,  -1,  -1],\n",
      "        [ -1,  -1,  -1,  -1],\n",
      "        [ -1,  -1,  -1,  -1],\n",
      "        [ -1,  -1,  -1,  -1],\n",
      "        [ -1,  -1,  -1,  -1],\n",
      "        [ -1,  -1,  -1,  -1],\n",
      "        [ -1,  -1,  -1,  -1],\n",
      "        [ -1,  -1,  -1,  -1],\n",
      "        [ -1,  -1,  -1,  -1],\n",
      "        [ -1,  -1,  -1,  -1],\n",
      "        [ -1,  -1,  -1,  -1],\n",
      "        [ -1,  -1,  -1,  -1],\n",
      "        [ -1,  -1,  -1,  -1],\n",
      "        [ -1,  -1,  -1,  -1],\n",
      "        [ -1,  -1,  -1,  -1],\n",
      "        [ -1,  -1,  -1,  -1],\n",
      "        [ -1,  -1,  -1,  -1],\n",
      "        [ -1,  -1,  -1,  -1],\n",
      "        [ -1,  -1,  -1,  -1],\n",
      "        [ -1,  -1,  -1,  -1],\n",
      "        [ -1,  -1,  -1,  -1],\n",
      "        [ -1,  -1,  -1,  -1],\n",
      "        [ -1,  -1,  -1,  -1],\n",
      "        [ -1,  -1,  -1,  -1],\n",
      "        [ -1,  -1,  -1,  -1],\n",
      "        [ -1,  -1,  -1,  -1],\n",
      "        [ -1,  -1,  -1,  -1],\n",
      "        [ -1,  -1,  -1,  -1],\n",
      "        [ -1,  -1,  -1,  -1],\n",
      "        [ -1,  -1,  -1,  -1],\n",
      "        [ -1,  -1,  -1,  -1],\n",
      "        [ -1,  -1,  -1,  -1],\n",
      "        [ -1,  -1,  -1,  -1],\n",
      "        [ -1,  -1,  -1,  -1],\n",
      "        [ -1,  -1,  -1,  -1],\n",
      "        [ -1,  -1,  -1,  -1],\n",
      "        [ -1,  -1,  -1,  -1],\n",
      "        [ -1,  -1,  -1,  -1],\n",
      "        [ -1,  -1,  -1,  -1],\n",
      "        [ -1,  -1,  -1,  -1],\n",
      "        [ -1,  -1,  -1,  -1],\n",
      "        [ -1,  -1,  -1,  -1],\n",
      "        [ -1,  -1,  -1,  -1],\n",
      "        [ -1,  -1,  -1,  -1],\n",
      "        [ -1,  -1,  -1,  -1],\n",
      "        [ -1,  -1,  -1,  -1],\n",
      "        [ -1,  -1,  -1,  -1],\n",
      "        [ -1,  -1,  -1,  -1],\n",
      "        [ -1,  -1,  -1,  -1],\n",
      "        [ -1,  -1,  -1,  -1],\n",
      "        [ -1,  -1,  -1,  -1],\n",
      "        [ -1,  -1,  -1,  -1],\n",
      "        [ -1,  -1,  -1,  -1],\n",
      "        [ -1,  -1,  -1,  -1]])\n",
      "tensor([41., 24., 24., 29., 25., 10., 29., 17., 55., 24., 38., 24., 21., 12.,\n",
      "        17., 14., 28., 29., 14., 27., 10., 23., 13., 42., 27., 14., 14., 23.,\n",
      "        28., 29., 14., 10., 13., -1., -1., -1., -1., -1., -1., -1., -1., -1.,\n",
      "        -1., -1., -1., -1., -1., -1., -1., -1., -1., -1., -1., -1., -1., -1.,\n",
      "        -1., -1., -1., -1., -1., -1., -1., -1., -1., -1., -1., -1., -1., -1.,\n",
      "        -1., -1., -1., -1., -1., -1., -1., -1., -1., -1., -1., -1., -1., -1.,\n",
      "        -1., -1., -1., -1., -1., -1., -1., -1., -1., -1., -1., -1., -1., -1.,\n",
      "        -1., -1., -1., -1., -1., -1., -1., -1., -1., -1., -1., -1., -1., -1.,\n",
      "        -1., -1., -1., -1., -1., -1., -1., -1., -1., -1., -1., -1., -1., -1.,\n",
      "        -1., -1., -1., -1., -1., -1., -1., -1., -1., -1., -1., -1., -1., -1.,\n",
      "        -1., -1., -1., -1., -1., -1., -1., -1., -1., -1., -1., -1., -1., -1.,\n",
      "        -1., -1., -1.])\n"
     ]
    }
   ],
   "source": [
    "# n_2_idx = {v:k for k,v in enumerate(string.printable)}\n",
    "# train = ObjectDetectionDataset(n_2_idx, 'Train_Im', 'Train_GT', des_size = (640, 480))\n",
    "# it, boxes, gtlab = train[0]\n",
    "# print (it.shape)\n",
    "# print(boxes)\n",
    "# print(gtlab)"
   ]
  },
  {
   "cell_type": "code",
   "execution_count": 50,
   "id": "68fc6f73",
   "metadata": {},
   "outputs": [
    {
     "name": "stdout",
     "output_type": "stream",
     "text": [
      "tensor([[ 14, 452,  92, 195],\n",
      "        [ 97, 426, 181, 275],\n",
      "        [185, 448, 281, 243],\n",
      "        [292, 396, 377, 282],\n",
      "        [390, 456, 448, 189]])\n",
      "tensor([ 2., 72., 33., 80.,  1.])\n",
      "torch.Size([3, 640, 480])\n"
     ]
    }
   ],
   "source": [
    "n_2_idx = {v:k for k,v in enumerate(string.printable)}\n",
    "idx_2_n = {value: key for key, value in n_2_idx.items()}\n",
    "img_shape = (667, 1000) #height, width\n",
    "feat_shape = (15, 20) #height, width\n",
    "fh,fw = feat_shape\n",
    "ih,iw = img_shape\n",
    "\n",
    "img_path = 'math.jpg'\n",
    "des_shape = (640, 480) #height, width\n",
    "feat_shape = (15, 20)\n",
    "corresp_classes = ['2', '+', 'x', '=' , '1']\n",
    "gt_lab = torch.Tensor([n_2_idx[name] for name in corresp_classes])\n",
    "boxes = [[31,472,192,204],[203,444,379,287],[386,467,586,254],[609,413,786,294],[813,476,935,198]]\n",
    "\n",
    "\n",
    "img_tensor = get_data(img_path, des_shape)\n",
    "sboxes = scale_boxes( boxes, 1000, 667, des_shape)\n",
    "dl = [img_tensor, sboxes, gt_lab]\n",
    "\n",
    "print(sboxes)\n",
    "print(gt_lab)\n",
    "print(img_tensor.shape)\n"
   ]
  },
  {
   "cell_type": "code",
   "execution_count": 55,
   "id": "7b93fc4a",
   "metadata": {
    "scrolled": false
   },
   "outputs": [
    {
     "name": "stderr",
     "output_type": "stream",
     "text": [
      "  1%|▊                                                                                 | 1/100 [00:03<05:12,  3.16s/it]"
     ]
    },
    {
     "name": "stdout",
     "output_type": "stream",
     "text": [
      "tot: nan\n"
     ]
    },
    {
     "name": "stderr",
     "output_type": "stream",
     "text": [
      "\r",
      "  2%|█▋                                                                                | 2/100 [00:06<05:24,  3.31s/it]"
     ]
    },
    {
     "name": "stdout",
     "output_type": "stream",
     "text": [
      "tot: nan\n"
     ]
    },
    {
     "name": "stderr",
     "output_type": "stream",
     "text": [
      "\r",
      "  3%|██▍                                                                               | 3/100 [00:10<05:35,  3.46s/it]"
     ]
    },
    {
     "name": "stdout",
     "output_type": "stream",
     "text": [
      "tot: nan\n"
     ]
    },
    {
     "name": "stderr",
     "output_type": "stream",
     "text": [
      "\r",
      "  4%|███▎                                                                              | 4/100 [00:14<05:46,  3.61s/it]"
     ]
    },
    {
     "name": "stdout",
     "output_type": "stream",
     "text": [
      "tot: nan\n"
     ]
    },
    {
     "name": "stderr",
     "output_type": "stream",
     "text": [
      "\r",
      "  5%|████                                                                              | 5/100 [00:17<05:34,  3.53s/it]"
     ]
    },
    {
     "name": "stdout",
     "output_type": "stream",
     "text": [
      "tot: nan\n"
     ]
    },
    {
     "name": "stderr",
     "output_type": "stream",
     "text": [
      "\r",
      "  6%|████▉                                                                             | 6/100 [00:21<05:34,  3.56s/it]"
     ]
    },
    {
     "name": "stdout",
     "output_type": "stream",
     "text": [
      "tot: nan\n"
     ]
    },
    {
     "name": "stderr",
     "output_type": "stream",
     "text": [
      "\r",
      "  7%|█████▋                                                                            | 7/100 [00:24<05:39,  3.65s/it]"
     ]
    },
    {
     "name": "stdout",
     "output_type": "stream",
     "text": [
      "tot: nan\n"
     ]
    },
    {
     "name": "stderr",
     "output_type": "stream",
     "text": [
      "\r",
      "  8%|██████▌                                                                           | 8/100 [00:28<05:28,  3.58s/it]"
     ]
    },
    {
     "name": "stdout",
     "output_type": "stream",
     "text": [
      "tot: nan\n"
     ]
    },
    {
     "name": "stderr",
     "output_type": "stream",
     "text": [
      "\r",
      "  9%|███████▍                                                                          | 9/100 [00:32<05:29,  3.62s/it]"
     ]
    },
    {
     "name": "stdout",
     "output_type": "stream",
     "text": [
      "tot: nan\n"
     ]
    },
    {
     "name": "stderr",
     "output_type": "stream",
     "text": [
      "\r",
      " 10%|████████                                                                         | 10/100 [00:35<05:20,  3.56s/it]"
     ]
    },
    {
     "name": "stdout",
     "output_type": "stream",
     "text": [
      "tot: nan\n"
     ]
    },
    {
     "name": "stderr",
     "output_type": "stream",
     "text": [
      "\r",
      " 11%|████████▉                                                                        | 11/100 [00:38<05:10,  3.49s/it]"
     ]
    },
    {
     "name": "stdout",
     "output_type": "stream",
     "text": [
      "tot: nan\n"
     ]
    },
    {
     "name": "stderr",
     "output_type": "stream",
     "text": [
      "\r",
      " 12%|█████████▋                                                                       | 12/100 [00:42<05:00,  3.41s/it]"
     ]
    },
    {
     "name": "stdout",
     "output_type": "stream",
     "text": [
      "tot: nan\n"
     ]
    },
    {
     "name": "stderr",
     "output_type": "stream",
     "text": [
      "\r",
      " 13%|██████████▌                                                                      | 13/100 [00:46<05:13,  3.61s/it]"
     ]
    },
    {
     "name": "stdout",
     "output_type": "stream",
     "text": [
      "tot: nan\n"
     ]
    },
    {
     "name": "stderr",
     "output_type": "stream",
     "text": [
      "\r",
      " 14%|███████████▎                                                                     | 14/100 [00:50<05:26,  3.79s/it]"
     ]
    },
    {
     "name": "stdout",
     "output_type": "stream",
     "text": [
      "tot: nan\n"
     ]
    },
    {
     "name": "stderr",
     "output_type": "stream",
     "text": [
      "\r",
      " 15%|████████████▏                                                                    | 15/100 [00:54<05:37,  3.97s/it]"
     ]
    },
    {
     "name": "stdout",
     "output_type": "stream",
     "text": [
      "tot: nan\n"
     ]
    },
    {
     "name": "stderr",
     "output_type": "stream",
     "text": [
      "\r",
      " 16%|████████████▉                                                                    | 16/100 [00:57<05:13,  3.73s/it]"
     ]
    },
    {
     "name": "stdout",
     "output_type": "stream",
     "text": [
      "tot: nan\n"
     ]
    },
    {
     "name": "stderr",
     "output_type": "stream",
     "text": [
      "\r",
      " 17%|█████████████▊                                                                   | 17/100 [01:01<05:13,  3.78s/it]"
     ]
    },
    {
     "name": "stdout",
     "output_type": "stream",
     "text": [
      "tot: nan\n"
     ]
    },
    {
     "name": "stderr",
     "output_type": "stream",
     "text": [
      "\r",
      " 18%|██████████████▌                                                                  | 18/100 [01:05<05:02,  3.69s/it]"
     ]
    },
    {
     "name": "stdout",
     "output_type": "stream",
     "text": [
      "tot: nan\n"
     ]
    },
    {
     "name": "stderr",
     "output_type": "stream",
     "text": [
      "\r",
      " 19%|███████████████▍                                                                 | 19/100 [01:08<04:56,  3.65s/it]"
     ]
    },
    {
     "name": "stdout",
     "output_type": "stream",
     "text": [
      "tot: nan\n"
     ]
    },
    {
     "name": "stderr",
     "output_type": "stream",
     "text": [
      "\r",
      " 20%|████████████████▏                                                                | 20/100 [01:12<04:48,  3.61s/it]"
     ]
    },
    {
     "name": "stdout",
     "output_type": "stream",
     "text": [
      "tot: nan\n"
     ]
    },
    {
     "name": "stderr",
     "output_type": "stream",
     "text": [
      "\r",
      " 21%|█████████████████                                                                | 21/100 [01:16<04:48,  3.65s/it]"
     ]
    },
    {
     "name": "stdout",
     "output_type": "stream",
     "text": [
      "tot: nan\n"
     ]
    },
    {
     "name": "stderr",
     "output_type": "stream",
     "text": [
      "\r",
      " 22%|█████████████████▊                                                               | 22/100 [01:19<04:39,  3.59s/it]"
     ]
    },
    {
     "name": "stdout",
     "output_type": "stream",
     "text": [
      "tot: nan\n"
     ]
    },
    {
     "name": "stderr",
     "output_type": "stream",
     "text": [
      "\r",
      " 23%|██████████████████▋                                                              | 23/100 [01:22<04:22,  3.41s/it]"
     ]
    },
    {
     "name": "stdout",
     "output_type": "stream",
     "text": [
      "tot: nan\n"
     ]
    },
    {
     "name": "stderr",
     "output_type": "stream",
     "text": [
      "\r",
      " 24%|███████████████████▍                                                             | 24/100 [01:25<04:14,  3.35s/it]"
     ]
    },
    {
     "name": "stdout",
     "output_type": "stream",
     "text": [
      "tot: nan\n"
     ]
    },
    {
     "name": "stderr",
     "output_type": "stream",
     "text": [
      "\r",
      " 25%|████████████████████▎                                                            | 25/100 [01:29<04:16,  3.42s/it]"
     ]
    },
    {
     "name": "stdout",
     "output_type": "stream",
     "text": [
      "tot: nan\n"
     ]
    },
    {
     "name": "stderr",
     "output_type": "stream",
     "text": [
      "\r",
      " 26%|█████████████████████                                                            | 26/100 [01:32<04:10,  3.39s/it]"
     ]
    },
    {
     "name": "stdout",
     "output_type": "stream",
     "text": [
      "tot: nan\n"
     ]
    },
    {
     "name": "stderr",
     "output_type": "stream",
     "text": [
      "\r",
      " 27%|█████████████████████▊                                                           | 27/100 [01:36<04:08,  3.40s/it]"
     ]
    },
    {
     "name": "stdout",
     "output_type": "stream",
     "text": [
      "tot: nan\n"
     ]
    },
    {
     "name": "stderr",
     "output_type": "stream",
     "text": [
      "\r",
      " 28%|██████████████████████▋                                                          | 28/100 [01:39<04:04,  3.40s/it]"
     ]
    },
    {
     "name": "stdout",
     "output_type": "stream",
     "text": [
      "tot: nan\n"
     ]
    },
    {
     "name": "stderr",
     "output_type": "stream",
     "text": [
      "\r",
      " 29%|███████████████████████▍                                                         | 29/100 [01:42<04:00,  3.39s/it]"
     ]
    },
    {
     "name": "stdout",
     "output_type": "stream",
     "text": [
      "tot: nan\n"
     ]
    },
    {
     "name": "stderr",
     "output_type": "stream",
     "text": [
      "\r",
      " 30%|████████████████████████▎                                                        | 30/100 [01:46<03:56,  3.38s/it]"
     ]
    },
    {
     "name": "stdout",
     "output_type": "stream",
     "text": [
      "tot: nan\n"
     ]
    },
    {
     "name": "stderr",
     "output_type": "stream",
     "text": [
      "\r",
      " 31%|█████████████████████████                                                        | 31/100 [01:49<03:51,  3.35s/it]"
     ]
    },
    {
     "name": "stdout",
     "output_type": "stream",
     "text": [
      "tot: nan\n"
     ]
    },
    {
     "name": "stderr",
     "output_type": "stream",
     "text": [
      "\r",
      " 32%|█████████████████████████▉                                                       | 32/100 [01:52<03:48,  3.35s/it]"
     ]
    },
    {
     "name": "stdout",
     "output_type": "stream",
     "text": [
      "tot: nan\n"
     ]
    },
    {
     "name": "stderr",
     "output_type": "stream",
     "text": [
      "\r",
      " 33%|██████████████████████████▋                                                      | 33/100 [01:56<03:43,  3.33s/it]"
     ]
    },
    {
     "name": "stdout",
     "output_type": "stream",
     "text": [
      "tot: nan\n"
     ]
    },
    {
     "name": "stderr",
     "output_type": "stream",
     "text": [
      "\r",
      " 34%|███████████████████████████▌                                                     | 34/100 [01:59<03:39,  3.32s/it]"
     ]
    },
    {
     "name": "stdout",
     "output_type": "stream",
     "text": [
      "tot: nan\n"
     ]
    },
    {
     "name": "stderr",
     "output_type": "stream",
     "text": [
      "\r",
      " 35%|████████████████████████████▎                                                    | 35/100 [02:02<03:36,  3.33s/it]"
     ]
    },
    {
     "name": "stdout",
     "output_type": "stream",
     "text": [
      "tot: nan\n"
     ]
    },
    {
     "name": "stderr",
     "output_type": "stream",
     "text": [
      "\r",
      " 36%|█████████████████████████████▏                                                   | 36/100 [02:06<03:32,  3.33s/it]"
     ]
    },
    {
     "name": "stdout",
     "output_type": "stream",
     "text": [
      "tot: nan\n"
     ]
    },
    {
     "name": "stderr",
     "output_type": "stream",
     "text": [
      "\r",
      " 37%|█████████████████████████████▉                                                   | 37/100 [02:09<03:30,  3.34s/it]"
     ]
    },
    {
     "name": "stdout",
     "output_type": "stream",
     "text": [
      "tot: nan\n"
     ]
    },
    {
     "name": "stderr",
     "output_type": "stream",
     "text": [
      "\r",
      " 38%|██████████████████████████████▊                                                  | 38/100 [02:12<03:29,  3.38s/it]"
     ]
    },
    {
     "name": "stdout",
     "output_type": "stream",
     "text": [
      "tot: nan\n"
     ]
    },
    {
     "name": "stderr",
     "output_type": "stream",
     "text": [
      "\r",
      " 39%|███████████████████████████████▌                                                 | 39/100 [02:16<03:26,  3.39s/it]"
     ]
    },
    {
     "name": "stdout",
     "output_type": "stream",
     "text": [
      "tot: nan\n"
     ]
    },
    {
     "name": "stderr",
     "output_type": "stream",
     "text": [
      "\r",
      " 40%|████████████████████████████████▍                                                | 40/100 [02:19<03:22,  3.38s/it]"
     ]
    },
    {
     "name": "stdout",
     "output_type": "stream",
     "text": [
      "tot: nan\n"
     ]
    },
    {
     "name": "stderr",
     "output_type": "stream",
     "text": [
      "\r",
      " 41%|█████████████████████████████████▏                                               | 41/100 [02:22<03:19,  3.37s/it]"
     ]
    },
    {
     "name": "stdout",
     "output_type": "stream",
     "text": [
      "tot: nan\n"
     ]
    },
    {
     "name": "stderr",
     "output_type": "stream",
     "text": [
      "\r",
      " 42%|██████████████████████████████████                                               | 42/100 [02:26<03:13,  3.34s/it]"
     ]
    },
    {
     "name": "stdout",
     "output_type": "stream",
     "text": [
      "tot: nan\n"
     ]
    },
    {
     "name": "stderr",
     "output_type": "stream",
     "text": [
      "\r",
      " 43%|██████████████████████████████████▊                                              | 43/100 [02:29<03:10,  3.33s/it]"
     ]
    },
    {
     "name": "stdout",
     "output_type": "stream",
     "text": [
      "tot: nan\n"
     ]
    },
    {
     "name": "stderr",
     "output_type": "stream",
     "text": [
      "\r",
      " 44%|███████████████████████████████████▋                                             | 44/100 [02:32<03:07,  3.36s/it]"
     ]
    },
    {
     "name": "stdout",
     "output_type": "stream",
     "text": [
      "tot: nan\n"
     ]
    },
    {
     "name": "stderr",
     "output_type": "stream",
     "text": [
      "\r",
      " 45%|████████████████████████████████████▍                                            | 45/100 [02:36<03:05,  3.37s/it]"
     ]
    },
    {
     "name": "stdout",
     "output_type": "stream",
     "text": [
      "tot: nan\n"
     ]
    },
    {
     "name": "stderr",
     "output_type": "stream",
     "text": [
      "\r",
      " 46%|█████████████████████████████████████▎                                           | 46/100 [02:39<03:03,  3.40s/it]"
     ]
    },
    {
     "name": "stdout",
     "output_type": "stream",
     "text": [
      "tot: nan\n"
     ]
    },
    {
     "name": "stderr",
     "output_type": "stream",
     "text": [
      "\r",
      " 47%|██████████████████████████████████████                                           | 47/100 [02:43<03:04,  3.49s/it]"
     ]
    },
    {
     "name": "stdout",
     "output_type": "stream",
     "text": [
      "tot: nan\n"
     ]
    },
    {
     "name": "stderr",
     "output_type": "stream",
     "text": [
      "\r",
      " 48%|██████████████████████████████████████▉                                          | 48/100 [02:47<03:04,  3.55s/it]"
     ]
    },
    {
     "name": "stdout",
     "output_type": "stream",
     "text": [
      "tot: nan\n"
     ]
    },
    {
     "name": "stderr",
     "output_type": "stream",
     "text": [
      "\r",
      " 49%|███████████████████████████████████████▋                                         | 49/100 [02:50<03:01,  3.56s/it]"
     ]
    },
    {
     "name": "stdout",
     "output_type": "stream",
     "text": [
      "tot: nan\n"
     ]
    },
    {
     "name": "stderr",
     "output_type": "stream",
     "text": [
      "\r",
      " 50%|████████████████████████████████████████▌                                        | 50/100 [02:54<02:57,  3.55s/it]"
     ]
    },
    {
     "name": "stdout",
     "output_type": "stream",
     "text": [
      "tot: nan\n"
     ]
    },
    {
     "name": "stderr",
     "output_type": "stream",
     "text": [
      "\r",
      " 51%|█████████████████████████████████████████▎                                       | 51/100 [02:57<02:51,  3.50s/it]"
     ]
    },
    {
     "name": "stdout",
     "output_type": "stream",
     "text": [
      "tot: nan\n"
     ]
    },
    {
     "name": "stderr",
     "output_type": "stream",
     "text": [
      "\r",
      " 52%|██████████████████████████████████████████                                       | 52/100 [03:01<02:46,  3.47s/it]"
     ]
    },
    {
     "name": "stdout",
     "output_type": "stream",
     "text": [
      "tot: nan\n"
     ]
    },
    {
     "name": "stderr",
     "output_type": "stream",
     "text": [
      "\r",
      " 53%|██████████████████████████████████████████▉                                      | 53/100 [03:04<02:41,  3.43s/it]"
     ]
    },
    {
     "name": "stdout",
     "output_type": "stream",
     "text": [
      "tot: nan\n"
     ]
    },
    {
     "name": "stderr",
     "output_type": "stream",
     "text": [
      "\r",
      " 54%|███████████████████████████████████████████▋                                     | 54/100 [03:07<02:37,  3.43s/it]"
     ]
    },
    {
     "name": "stdout",
     "output_type": "stream",
     "text": [
      "tot: nan\n"
     ]
    },
    {
     "name": "stderr",
     "output_type": "stream",
     "text": [
      "\r",
      " 55%|████████████████████████████████████████████▌                                    | 55/100 [03:11<02:35,  3.45s/it]"
     ]
    },
    {
     "name": "stdout",
     "output_type": "stream",
     "text": [
      "tot: nan\n"
     ]
    },
    {
     "name": "stderr",
     "output_type": "stream",
     "text": [
      "\r",
      " 56%|█████████████████████████████████████████████▎                                   | 56/100 [03:14<02:31,  3.43s/it]"
     ]
    },
    {
     "name": "stdout",
     "output_type": "stream",
     "text": [
      "tot: nan\n"
     ]
    },
    {
     "name": "stderr",
     "output_type": "stream",
     "text": [
      "\r",
      " 57%|██████████████████████████████████████████████▏                                  | 57/100 [03:18<02:25,  3.39s/it]"
     ]
    },
    {
     "name": "stdout",
     "output_type": "stream",
     "text": [
      "tot: nan\n"
     ]
    },
    {
     "name": "stderr",
     "output_type": "stream",
     "text": [
      "\r",
      " 58%|██████████████████████████████████████████████▉                                  | 58/100 [03:21<02:23,  3.42s/it]"
     ]
    },
    {
     "name": "stdout",
     "output_type": "stream",
     "text": [
      "tot: nan\n"
     ]
    },
    {
     "name": "stderr",
     "output_type": "stream",
     "text": [
      "\r",
      " 59%|███████████████████████████████████████████████▊                                 | 59/100 [03:24<02:19,  3.39s/it]"
     ]
    },
    {
     "name": "stdout",
     "output_type": "stream",
     "text": [
      "tot: nan\n"
     ]
    },
    {
     "name": "stderr",
     "output_type": "stream",
     "text": [
      "\r",
      " 60%|████████████████████████████████████████████████▌                                | 60/100 [03:28<02:15,  3.38s/it]"
     ]
    },
    {
     "name": "stdout",
     "output_type": "stream",
     "text": [
      "tot: nan\n"
     ]
    },
    {
     "name": "stderr",
     "output_type": "stream",
     "text": [
      "\r",
      " 61%|█████████████████████████████████████████████████▍                               | 61/100 [03:31<02:10,  3.34s/it]"
     ]
    },
    {
     "name": "stdout",
     "output_type": "stream",
     "text": [
      "tot: nan\n"
     ]
    },
    {
     "name": "stderr",
     "output_type": "stream",
     "text": [
      "\r",
      " 62%|██████████████████████████████████████████████████▏                              | 62/100 [03:34<02:05,  3.31s/it]"
     ]
    },
    {
     "name": "stdout",
     "output_type": "stream",
     "text": [
      "tot: nan\n"
     ]
    },
    {
     "name": "stderr",
     "output_type": "stream",
     "text": [
      "\r",
      " 63%|███████████████████████████████████████████████████                              | 63/100 [03:38<02:02,  3.31s/it]"
     ]
    },
    {
     "name": "stdout",
     "output_type": "stream",
     "text": [
      "tot: nan\n"
     ]
    },
    {
     "name": "stderr",
     "output_type": "stream",
     "text": [
      "\r",
      " 64%|███████████████████████████████████████████████████▊                             | 64/100 [03:41<02:01,  3.37s/it]"
     ]
    },
    {
     "name": "stdout",
     "output_type": "stream",
     "text": [
      "tot: nan\n"
     ]
    },
    {
     "name": "stderr",
     "output_type": "stream",
     "text": [
      "\r",
      " 65%|████████████████████████████████████████████████████▋                            | 65/100 [03:44<01:58,  3.38s/it]"
     ]
    },
    {
     "name": "stdout",
     "output_type": "stream",
     "text": [
      "tot: nan\n"
     ]
    },
    {
     "name": "stderr",
     "output_type": "stream",
     "text": [
      "\r",
      " 66%|█████████████████████████████████████████████████████▍                           | 66/100 [03:48<01:54,  3.37s/it]"
     ]
    },
    {
     "name": "stdout",
     "output_type": "stream",
     "text": [
      "tot: nan\n"
     ]
    },
    {
     "name": "stderr",
     "output_type": "stream",
     "text": [
      "\r",
      " 67%|██████████████████████████████████████████████████████▎                          | 67/100 [03:51<01:50,  3.35s/it]"
     ]
    },
    {
     "name": "stdout",
     "output_type": "stream",
     "text": [
      "tot: nan\n"
     ]
    },
    {
     "name": "stderr",
     "output_type": "stream",
     "text": [
      "\r",
      " 68%|███████████████████████████████████████████████████████                          | 68/100 [03:54<01:46,  3.34s/it]"
     ]
    },
    {
     "name": "stdout",
     "output_type": "stream",
     "text": [
      "tot: nan\n"
     ]
    },
    {
     "name": "stderr",
     "output_type": "stream",
     "text": [
      "\r",
      " 69%|███████████████████████████████████████████████████████▉                         | 69/100 [03:58<01:44,  3.38s/it]"
     ]
    },
    {
     "name": "stdout",
     "output_type": "stream",
     "text": [
      "tot: nan\n"
     ]
    },
    {
     "name": "stderr",
     "output_type": "stream",
     "text": [
      "\r",
      " 70%|████████████████████████████████████████████████████████▋                        | 70/100 [04:01<01:42,  3.42s/it]"
     ]
    },
    {
     "name": "stdout",
     "output_type": "stream",
     "text": [
      "tot: nan\n"
     ]
    },
    {
     "name": "stderr",
     "output_type": "stream",
     "text": [
      "\r",
      " 71%|█████████████████████████████████████████████████████████▌                       | 71/100 [04:05<01:38,  3.39s/it]"
     ]
    },
    {
     "name": "stdout",
     "output_type": "stream",
     "text": [
      "tot: nan\n"
     ]
    },
    {
     "name": "stderr",
     "output_type": "stream",
     "text": [
      "\r",
      " 72%|██████████████████████████████████████████████████████████▎                      | 72/100 [04:08<01:35,  3.41s/it]"
     ]
    },
    {
     "name": "stdout",
     "output_type": "stream",
     "text": [
      "tot: nan\n"
     ]
    },
    {
     "name": "stderr",
     "output_type": "stream",
     "text": [
      "\r",
      " 73%|███████████████████████████████████████████████████████████▏                     | 73/100 [04:12<01:32,  3.42s/it]"
     ]
    },
    {
     "name": "stdout",
     "output_type": "stream",
     "text": [
      "tot: nan\n"
     ]
    },
    {
     "name": "stderr",
     "output_type": "stream",
     "text": [
      "\r",
      " 74%|███████████████████████████████████████████████████████████▉                     | 74/100 [04:15<01:29,  3.45s/it]"
     ]
    },
    {
     "name": "stdout",
     "output_type": "stream",
     "text": [
      "tot: nan\n"
     ]
    },
    {
     "name": "stderr",
     "output_type": "stream",
     "text": [
      "\r",
      " 75%|████████████████████████████████████████████████████████████▊                    | 75/100 [04:19<01:26,  3.45s/it]"
     ]
    },
    {
     "name": "stdout",
     "output_type": "stream",
     "text": [
      "tot: nan\n"
     ]
    },
    {
     "name": "stderr",
     "output_type": "stream",
     "text": [
      "\r",
      " 76%|█████████████████████████████████████████████████████████████▌                   | 76/100 [04:22<01:22,  3.46s/it]"
     ]
    },
    {
     "name": "stdout",
     "output_type": "stream",
     "text": [
      "tot: nan\n"
     ]
    },
    {
     "name": "stderr",
     "output_type": "stream",
     "text": [
      "\r",
      " 77%|██████████████████████████████████████████████████████████████▎                  | 77/100 [04:26<01:19,  3.46s/it]"
     ]
    },
    {
     "name": "stdout",
     "output_type": "stream",
     "text": [
      "tot: nan\n"
     ]
    },
    {
     "name": "stderr",
     "output_type": "stream",
     "text": [
      "\r",
      " 78%|███████████████████████████████████████████████████████████████▏                 | 78/100 [04:29<01:16,  3.48s/it]"
     ]
    },
    {
     "name": "stdout",
     "output_type": "stream",
     "text": [
      "tot: nan\n"
     ]
    },
    {
     "name": "stderr",
     "output_type": "stream",
     "text": [
      "\r",
      " 79%|███████████████████████████████████████████████████████████████▉                 | 79/100 [04:33<01:12,  3.47s/it]"
     ]
    },
    {
     "name": "stdout",
     "output_type": "stream",
     "text": [
      "tot: nan\n"
     ]
    },
    {
     "name": "stderr",
     "output_type": "stream",
     "text": [
      "\r",
      " 80%|████████████████████████████████████████████████████████████████▊                | 80/100 [04:36<01:10,  3.54s/it]"
     ]
    },
    {
     "name": "stdout",
     "output_type": "stream",
     "text": [
      "tot: nan\n"
     ]
    },
    {
     "name": "stderr",
     "output_type": "stream",
     "text": [
      "\r",
      " 81%|█████████████████████████████████████████████████████████████████▌               | 81/100 [04:40<01:07,  3.54s/it]"
     ]
    },
    {
     "name": "stdout",
     "output_type": "stream",
     "text": [
      "tot: nan\n"
     ]
    },
    {
     "name": "stderr",
     "output_type": "stream",
     "text": [
      "\r",
      " 82%|██████████████████████████████████████████████████████████████████▍              | 82/100 [04:43<01:04,  3.58s/it]"
     ]
    },
    {
     "name": "stdout",
     "output_type": "stream",
     "text": [
      "tot: nan\n"
     ]
    },
    {
     "name": "stderr",
     "output_type": "stream",
     "text": [
      "\r",
      " 83%|███████████████████████████████████████████████████████████████████▏             | 83/100 [04:47<01:00,  3.55s/it]"
     ]
    },
    {
     "name": "stdout",
     "output_type": "stream",
     "text": [
      "tot: nan\n"
     ]
    },
    {
     "name": "stderr",
     "output_type": "stream",
     "text": [
      "\r",
      " 84%|████████████████████████████████████████████████████████████████████             | 84/100 [04:50<00:56,  3.53s/it]"
     ]
    },
    {
     "name": "stdout",
     "output_type": "stream",
     "text": [
      "tot: nan\n"
     ]
    },
    {
     "name": "stderr",
     "output_type": "stream",
     "text": [
      "\r",
      " 85%|████████████████████████████████████████████████████████████████████▊            | 85/100 [04:54<00:52,  3.50s/it]"
     ]
    },
    {
     "name": "stdout",
     "output_type": "stream",
     "text": [
      "tot: nan\n"
     ]
    },
    {
     "name": "stderr",
     "output_type": "stream",
     "text": [
      "\r",
      " 86%|█████████████████████████████████████████████████████████████████████▋           | 86/100 [04:57<00:48,  3.50s/it]"
     ]
    },
    {
     "name": "stdout",
     "output_type": "stream",
     "text": [
      "tot: nan\n"
     ]
    },
    {
     "name": "stderr",
     "output_type": "stream",
     "text": [
      "\r",
      " 87%|██████████████████████████████████████████████████████████████████████▍          | 87/100 [05:01<00:44,  3.46s/it]"
     ]
    },
    {
     "name": "stdout",
     "output_type": "stream",
     "text": [
      "tot: nan\n"
     ]
    },
    {
     "name": "stderr",
     "output_type": "stream",
     "text": [
      "\r",
      " 88%|███████████████████████████████████████████████████████████████████████▎         | 88/100 [05:04<00:41,  3.46s/it]"
     ]
    },
    {
     "name": "stdout",
     "output_type": "stream",
     "text": [
      "tot: nan\n"
     ]
    },
    {
     "name": "stderr",
     "output_type": "stream",
     "text": [
      "\r",
      " 89%|████████████████████████████████████████████████████████████████████████         | 89/100 [05:08<00:37,  3.45s/it]"
     ]
    },
    {
     "name": "stdout",
     "output_type": "stream",
     "text": [
      "tot: nan\n"
     ]
    },
    {
     "name": "stderr",
     "output_type": "stream",
     "text": [
      "\r",
      " 90%|████████████████████████████████████████████████████████████████████████▉        | 90/100 [05:11<00:34,  3.44s/it]"
     ]
    },
    {
     "name": "stdout",
     "output_type": "stream",
     "text": [
      "tot: nan\n"
     ]
    },
    {
     "name": "stderr",
     "output_type": "stream",
     "text": [
      "\r",
      " 91%|█████████████████████████████████████████████████████████████████████████▋       | 91/100 [05:14<00:30,  3.43s/it]"
     ]
    },
    {
     "name": "stdout",
     "output_type": "stream",
     "text": [
      "tot: nan\n"
     ]
    },
    {
     "name": "stderr",
     "output_type": "stream",
     "text": [
      "\r",
      " 92%|██████████████████████████████████████████████████████████████████████████▌      | 92/100 [05:18<00:27,  3.43s/it]"
     ]
    },
    {
     "name": "stdout",
     "output_type": "stream",
     "text": [
      "tot: nan\n"
     ]
    },
    {
     "name": "stderr",
     "output_type": "stream",
     "text": [
      "\r",
      " 93%|███████████████████████████████████████████████████████████████████████████▎     | 93/100 [05:21<00:23,  3.41s/it]"
     ]
    },
    {
     "name": "stdout",
     "output_type": "stream",
     "text": [
      "tot: nan\n"
     ]
    },
    {
     "name": "stderr",
     "output_type": "stream",
     "text": [
      "\r",
      " 94%|████████████████████████████████████████████████████████████████████████████▏    | 94/100 [05:25<00:20,  3.42s/it]"
     ]
    },
    {
     "name": "stdout",
     "output_type": "stream",
     "text": [
      "tot: nan\n"
     ]
    },
    {
     "name": "stderr",
     "output_type": "stream",
     "text": [
      "\r",
      " 95%|████████████████████████████████████████████████████████████████████████████▉    | 95/100 [05:28<00:17,  3.40s/it]"
     ]
    },
    {
     "name": "stdout",
     "output_type": "stream",
     "text": [
      "tot: nan\n"
     ]
    },
    {
     "name": "stderr",
     "output_type": "stream",
     "text": [
      "\r",
      " 96%|█████████████████████████████████████████████████████████████████████████████▊   | 96/100 [05:32<00:13,  3.47s/it]"
     ]
    },
    {
     "name": "stdout",
     "output_type": "stream",
     "text": [
      "tot: nan\n"
     ]
    },
    {
     "name": "stderr",
     "output_type": "stream",
     "text": [
      "\r",
      " 97%|██████████████████████████████████████████████████████████████████████████████▌  | 97/100 [05:35<00:10,  3.44s/it]"
     ]
    },
    {
     "name": "stdout",
     "output_type": "stream",
     "text": [
      "tot: nan\n"
     ]
    },
    {
     "name": "stderr",
     "output_type": "stream",
     "text": [
      "\r",
      " 98%|███████████████████████████████████████████████████████████████████████████████▍ | 98/100 [05:38<00:06,  3.42s/it]"
     ]
    },
    {
     "name": "stdout",
     "output_type": "stream",
     "text": [
      "tot: nan\n"
     ]
    },
    {
     "name": "stderr",
     "output_type": "stream",
     "text": [
      "\r",
      " 99%|████████████████████████████████████████████████████████████████████████████████▏| 99/100 [05:42<00:03,  3.43s/it]"
     ]
    },
    {
     "name": "stdout",
     "output_type": "stream",
     "text": [
      "tot: nan\n"
     ]
    },
    {
     "name": "stderr",
     "output_type": "stream",
     "text": [
      "100%|████████████████████████████████████████████████████████████████████████████████| 100/100 [05:45<00:00,  3.46s/it]"
     ]
    },
    {
     "name": "stdout",
     "output_type": "stream",
     "text": [
      "tot: nan\n",
      "inf_TSD\n"
     ]
    },
    {
     "name": "stderr",
     "output_type": "stream",
     "text": [
      "\n"
     ]
    },
    {
     "name": "stdout",
     "output_type": "stream",
     "text": [
      "[nan, nan, nan, nan, nan, nan, nan, nan, nan, nan, nan, nan, nan, nan, nan, nan, nan, nan, nan, nan, nan, nan, nan, nan, nan, nan, nan, nan, nan, nan, nan, nan, nan, nan, nan, nan, nan, nan, nan, nan, nan, nan, nan, nan, nan, nan, nan, nan, nan, nan, nan, nan, nan, nan, nan, nan, nan, nan, nan, nan, nan, nan, nan, nan, nan, nan, nan, nan, nan, nan, nan, nan, nan, nan, nan, nan, nan, nan, nan, nan, nan, nan, nan, nan, nan, nan, nan, nan, nan, nan, nan, nan, nan, nan, nan, nan, nan, nan, nan, nan]\n"
     ]
    },
    {
     "data": {
      "text/plain": [
       "<matplotlib.legend.Legend at 0x1fda94acd50>"
      ]
     },
     "execution_count": 55,
     "metadata": {},
     "output_type": "execute_result"
    },
    {
     "data": {
      "image/png": "[encoded data removed]",
      "text/plain": [
       "<Figure size 1000x600 with 1 Axes>"
      ]
     },
     "metadata": {},
     "output_type": "display_data"
    }
   ],
   "source": [
    "n_epochs = 100\n",
    "TSD =  TwoStageDetector((480,640), (15, 20), 2048, len(corresp_classes), (2,2))\n",
    "ll, pred, prop_fin, conf = trainer(TSD, .001, dl, n_epochs)\n",
    "\n",
    "print(ll)\n",
    "\n",
    "prop_proj_1 = project_bboxes(prop_fin[0], (iw/fw), (ih/fh), mode='a2p')\n",
    "classes_g = [idx_2_n[cls] for cls in dl[2].tolist() if cls != -1]\n",
    "classes_pred_1 = [idx_2_n[cls] for cls in pred[0].tolist() if cls]\n",
    "nrows, ncols = (1, 2)\n",
    "\n",
    "\n",
    "# fig, axes = plt.subplots(nrows, ncols, figsize=(12, 6))  \n",
    "# fig = display_bbox(prop_proj_1, fig, axes[0], classes=classes_pred_1)\n",
    "guesses = {}\n",
    "actual = {}\n",
    "for predict in classes_pred_1:\n",
    "    if predict in guesses:\n",
    "        guesses[predict] += 1\n",
    "    else:\n",
    "        guesses[predict] = 1\n",
    "\n",
    "for act in classes_g:\n",
    "    if act in actual:\n",
    "        actual[act] += 1\n",
    "    else:\n",
    "        actual[act] = 1\n",
    "        \n",
    "for key in guesses.keys(): \n",
    "    if key not in actual: \n",
    "        actual[key]  = 0\n",
    "for key in actual.keys(): \n",
    "    if key not in guesses: \n",
    "        guesses[key] = 0 \n",
    "        \n",
    "keys = list(actual.keys())  # Assuming keys are the same for both dictionaries\n",
    "values_dict1 = [actual[key] for key in keys]\n",
    "values_dict2 = [guesses[key] for key in keys]\n",
    "\n",
    "# Plotting the double bar graph\n",
    "plt.figure(figsize=(10, 6))\n",
    "bar_width = 0.35\n",
    "\n",
    "# Position of bars on x-axis\n",
    "r1 = range(len(keys))\n",
    "r2 = [x + bar_width for x in r1]\n",
    "\n",
    "# Create bars for both dictionaries\n",
    "plt.bar(r1, values_dict1, color='b', width=bar_width, label='Ground Truth')\n",
    "plt.bar(r2, values_dict2, color='g', width=bar_width, label='Predictions')\n",
    "plt.xlabel('Keys')\n",
    "plt.ylabel('Occurances')\n",
    "plt.title('Predicted vs Truth')\n",
    "plt.xticks([r + bar_width/2 for r in range(len(keys))], keys)\n",
    "plt.legend()"
   ]
  },
  {
   "cell_type": "code",
   "execution_count": 25,
   "id": "6674de1b",
   "metadata": {},
   "outputs": [
    {
     "data": {
      "image/png": "[encoded data removed]",
      "text/plain": [
       "<Figure size 640x480 with 1 Axes>"
      ]
     },
     "metadata": {},
     "output_type": "display_data"
    }
   ],
   "source": [
    "x = np.arange(len(ll))\n",
    "plt.plot(x, ll, marker='o', linestyle='-', color='b')  # Plot ll vs. x with markers\n",
    "plt.xlabel('Epochs')  # Label for x-axis\n",
    "plt.ylabel('Loss')  # Label for y-axis\n",
    "plt.grid(True)  # Show grid\n",
    "plt.show()"
   ]
  },
  {
   "cell_type": "code",
   "execution_count": null,
   "id": "fdc49f3b",
   "metadata": {},
   "outputs": [],
   "source": [
    "# project proposals to the image space\n",
    "\n",
    "# torch.save(TSD.state_dict(), \"model.pt\")\n",
    "# TSD.eval()\n",
    "# proposals_final, conf_scores_final, classes_final = TSD.inference(mini.img_data_all)\n",
    "# prop_proj_1 = project_bboxes(proposals_final[0], width_scale_factor, height_scale_factor, mode='a2p')\n",
    "# prop_proj_2 = project_bboxes(proposals_final[1], width_scale_factor, height_scale_factor, mode='a2p')\n",
    "\n",
    "# # get classes\n",
    "# classes_pred_1 = [idx_2_n[cls] for cls in classes_final[0].tolist()]\n",
    "# classes_pred_2 = [idx_2_n[cls] for cls in classes_final[1].tolist()]\n",
    "\n",
    "# nrows, ncols = (1, 2)\n",
    "# fig, axes = plt.subplots(nrows, ncols, figsize=(16, 8))\n",
    "\n",
    "# fig, axes = display_img(mini.img_data_all, fig, axes)\n",
    "# fig = display_bbox(prop_proj_1, fig, axes[0], classes=classes_pred_1)\n",
    "# fig = display_bbox(prop_proj_2, fig, axes[1], classes=classes_pred_2)"
   ]
  },
  {
   "cell_type": "code",
   "execution_count": null,
   "id": "6ed8abb1",
   "metadata": {},
   "outputs": [],
   "source": [
    "print(classes_pred_1)\n",
    "print(n_2_idx )"
   ]
  },
  {
   "cell_type": "code",
   "execution_count": null,
   "id": "aa035cd3",
   "metadata": {},
   "outputs": [],
   "source": []
  }
 ],
 "metadata": {
  "kernelspec": {
   "display_name": "Python 3 (ipykernel)",
   "language": "python",
   "name": "python3"
  },
  "language_info": {
   "codemirror_mode": {
    "name": "ipython",
    "version": 3
   },
   "file_extension": ".py",
   "mimetype": "text/x-python",
   "name": "python",
   "nbconvert_exporter": "python",
   "pygments_lexer": "ipython3",
   "version": "3.11.4"
  }
 },
 "nbformat": 4,
 "nbformat_minor": 5
}
